{
 "cells": [
  {
   "cell_type": "code",
   "execution_count": 30,
   "metadata": {},
   "outputs": [
    {
     "name": "stdout",
     "output_type": "stream",
     "text": [
      "Times taken for each run:\n",
      "Run #1: 4.16 seconds\n",
      "Run #2: 4.08 seconds\n",
      "Run #3: 4.23 seconds\n",
      "Run #4: 4.14 seconds\n",
      "Run #5: 4.11 seconds\n",
      "Run #6: 5.62 seconds\n",
      "Run #7: 4.49 seconds\n",
      "Run #8: 4.28 seconds\n",
      "Run #9: 4.36 seconds\n",
      "Run #10: 4.25 seconds\n",
      "Run #11: 4.39 seconds\n",
      "Run #12: 4.22 seconds\n",
      "Run #13: 4.31 seconds\n",
      "Run #14: 5.69 seconds\n",
      "Run #15: 4.72 seconds\n",
      "\n",
      "Average Time: 4.47 seconds\n"
     ]
    }
   ],
   "source": [
    "import re\n",
    "\n",
    "# File path to your output file\n",
    "SIMD_file_path = \"./output_SIMD.txt\"\n",
    "# Regular expression pattern to match \"Time taken\" line\n",
    "time_pattern = re.compile(r\"(Time taken).* (\\d+\\.\\d+)\")\n",
    "\n",
    "# List to store extracted times\n",
    "time_taken_SIMD = []\n",
    "\n",
    "# Open the file and read through it line by line\n",
    "with open(SIMD_file_path, 'r') as file:\n",
    "    for line in file:\n",
    "        match = time_pattern.search(line.strip())\n",
    "        if match:\n",
    "            # If a match is found, extract the time and append to the list\n",
    "            time_taken_SIMD.append(float(match.group(2)))\n",
    "\n",
    "# Display the extracted times\n",
    "print(\"Times taken for each run:\")\n",
    "for i, time in enumerate(time_taken_SIMD, start=1):\n",
    "    print(f\"Run #{i}: {time} seconds\")\n",
    "\n",
    "# Optionally, you can calculate the average time if needed\n",
    "if time_taken_SIMD:\n",
    "    avg_time_SIMD = sum(time_taken_SIMD) / len(time_taken_SIMD)\n",
    "    print(f\"\\nAverage Time: {avg_time_SIMD:.2f} seconds\")\n"
   ]
  },
  {
   "cell_type": "code",
   "execution_count": 31,
   "metadata": {},
   "outputs": [
    {
     "name": "stdout",
     "output_type": "stream",
     "text": [
      "Times taken for each run:\n",
      "Run #1: 29.86 seconds\n",
      "Run #2: 25.7 seconds\n",
      "Run #3: 22.17 seconds\n",
      "Run #4: 23.97 seconds\n",
      "Run #5: 21.83 seconds\n",
      "Run #6: 22.96 seconds\n",
      "Run #7: 21.54 seconds\n",
      "Run #8: 22.04 seconds\n",
      "Run #9: 22.12 seconds\n",
      "Run #10: 21.92 seconds\n",
      "Run #11: 21.8 seconds\n",
      "Run #12: 22.33 seconds\n",
      "Run #13: 22.49 seconds\n",
      "Run #14: 23.62 seconds\n",
      "Run #15: 22.22 seconds\n",
      "\n",
      "Average Time: 23.10 seconds\n"
     ]
    }
   ],
   "source": [
    "OG_file_path = \"output_orignal.txt\"\n",
    "time_pattern = re.compile(r\"(Time taken).* (\\d+\\.\\d+)\")\n",
    "\n",
    "# List to store extracted times\n",
    "time_taken_OG = []\n",
    "\n",
    "# Open the file and read through it line by line\n",
    "with open(OG_file_path, 'r') as file:\n",
    "    for line in file:\n",
    "        match = time_pattern.search(line.strip())\n",
    "        if match:\n",
    "            # If a match is found, extract the time and append to the list\n",
    "            time_taken_OG.append(float(match.group(2)))\n",
    "\n",
    "# Display the extracted times\n",
    "print(\"Times taken for each run:\")\n",
    "for i, time in enumerate(time_taken_OG, start=1):\n",
    "    print(f\"Run #{i}: {time} seconds\")\n",
    "\n",
    "# Optionally, you can calculate the average time if needed\n",
    "if time_taken_OG:\n",
    "    avg_time_OG = sum(time_taken_OG) / len(time_taken_OG)\n",
    "    print(f\"\\nAverage Time: {avg_time_OG:.2f} seconds\")\n"
   ]
  },
  {
   "cell_type": "code",
   "execution_count": 32,
   "metadata": {},
   "outputs": [],
   "source": [
    "speedup = avg_time_OG / avg_time_SIMD"
   ]
  },
  {
   "cell_type": "code",
   "execution_count": 33,
   "metadata": {},
   "outputs": [
    {
     "data": {
      "text/plain": [
       "5.168829231916481"
      ]
     },
     "execution_count": 33,
     "metadata": {},
     "output_type": "execute_result"
    }
   ],
   "source": [
    "speedup"
   ]
  },
  {
   "cell_type": "code",
   "execution_count": 34,
   "metadata": {},
   "outputs": [],
   "source": [
    "\n",
    "# calculate medium and standard deviation\n",
    "import statistics\n",
    "\n",
    "median_time_SIMD = statistics.median(time_taken_SIMD)\n",
    "stdev_time_SIMD = statistics.stdev(time_taken_SIMD)\n",
    "\n",
    "median_time_OG = statistics.median(time_taken_OG)\n",
    "stdev_time_OG = statistics.stdev(time_taken_OG)\n"
   ]
  },
  {
   "cell_type": "code",
   "execution_count": 35,
   "metadata": {},
   "outputs": [
    {
     "name": "stdout",
     "output_type": "stream",
     "text": [
      "Median Time SIMD: 4.28 seconds\n",
      "Standard Deviation SIMD: 0.51 seconds\n",
      "Median Time OG: 22.22 seconds\n",
      "Standard Deviation OG: 2.16 seconds\n"
     ]
    }
   ],
   "source": [
    "print(f\"Median Time SIMD: {median_time_SIMD:.2f} seconds\")\n",
    "print(f\"Standard Deviation SIMD: {stdev_time_SIMD:.2f} seconds\")\n",
    "\n",
    "print(f\"Median Time OG: {median_time_OG:.2f} seconds\")\n",
    "print(f\"Standard Deviation OG: {stdev_time_OG:.2f} seconds\")\n"
   ]
  },
  {
   "cell_type": "code",
   "execution_count": null,
   "metadata": {},
   "outputs": [],
   "source": []
  }
 ],
 "metadata": {
  "kernelspec": {
   "display_name": "pytorch",
   "language": "python",
   "name": "python3"
  },
  "language_info": {
   "codemirror_mode": {
    "name": "ipython",
    "version": 3
   },
   "file_extension": ".py",
   "mimetype": "text/x-python",
   "name": "python",
   "nbconvert_exporter": "python",
   "pygments_lexer": "ipython3",
   "version": "3.11.10"
  }
 },
 "nbformat": 4,
 "nbformat_minor": 2
}
